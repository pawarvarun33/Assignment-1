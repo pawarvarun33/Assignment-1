{
 "cells": [
  {
   "cell_type": "markdown",
   "id": "6a9b6a9e-4130-46e7-ae37-f3bcf24c9556",
   "metadata": {},
   "source": [
    "### Q1)Write a program that will give you in hand monthly salary after deduction on CTC - HRA(10%), DA(5%), PF(3%) and taxes deduction as below:\r\n",
    "Salary(Lakhs) : Tax(%)\r\n",
    "- Below 5 : 0%\r\n",
    "- 5 - 10 : 10%\r\n",
    "- 10 - 20 : 20%\r\n",
    "- Above 20 : 30%             : 30%"
   ]
  },
  {
   "cell_type": "code",
   "execution_count": 2,
   "id": "ed8693be-25a3-4a3e-b8bd-ad0161a2496d",
   "metadata": {},
   "outputs": [
    {
     "name": "stdin",
     "output_type": "stream",
     "text": [
      "Enter CTC (in lakhs):  100000\n"
     ]
    },
    {
     "name": "stdout",
     "output_type": "stream",
     "text": [
      "In-hand monthly salary: ₹57400.00\n"
     ]
    }
   ],
   "source": [
    "def in_hand_salary(ctc):\n",
    "    deductions = 0.18 * ctc  # HRA + DA + PF\n",
    "    tax_slabs = {5: 0.10, 10: 0.20, float('inf'): 0.30}\n",
    "    tax_percentage = next(v for k, v in tax_slabs.items() if ctc < k)\n",
    "    net_salary = (ctc - deductions) * (1 - tax_percentage)\n",
    "    return net_salary\n",
    "\n",
    "ctc = float(input(\"Enter CTC (in lakhs): \"))\n",
    "monthly_salary = in_hand_salary(ctc)\n",
    "print(f\"In-hand monthly salary: ₹{monthly_salary:.2f}\")\n"
   ]
  },
  {
   "cell_type": "markdown",
   "id": "339c1b07-b98f-4563-8882-2c850269076f",
   "metadata": {},
   "source": [
    "### Q2)Write a program that take a user input of three angles and will find out whether it can form a triangle or not.\r\n"
   ]
  },
  {
   "cell_type": "code",
   "execution_count": 9,
   "id": "d05ba219-25e4-4a91-be9d-be8164beba1a",
   "metadata": {},
   "outputs": [
    {
     "name": "stdin",
     "output_type": "stream",
     "text": [
      "Enter angle a:  50\n",
      "Enter angle b:  70\n",
      "Enter angle c:  60\n"
     ]
    },
    {
     "name": "stdout",
     "output_type": "stream",
     "text": [
      "Triangle is Valid.\n"
     ]
    }
   ],
   "source": [
    "# Validity of Triangle given angles\n",
    "def is_valid_triangle(a, b, c):\n",
    "    if a + b + c == 180 and a != 0 and b != 0 and c != 0:\n",
    "        return True\n",
    "    else:\n",
    "        return False\n",
    "\n",
    "# Reading Three Angles\n",
    "angle_a = float(input('Enter angle a: '))\n",
    "angle_b = float(input('Enter angle b: '))\n",
    "angle_c = float(input('Enter angle c: '))\n",
    "\n",
    "# Function call & making decision\n",
    "if is_valid_triangle(angle_a, angle_b, angle_c):\n",
    "    print('Triangle is Valid.')\n",
    "else:\n",
    "    print('Triangle is Invalid.')\n"
   ]
  },
  {
   "cell_type": "markdown",
   "id": "9c09daf9-8502-4c67-bdff-4027a394911c",
   "metadata": {},
   "source": [
    "### "
   ]
  },
  {
   "cell_type": "markdown",
   "id": "bf07ca1f-cbab-423e-b3ae-9e4d1d84ae2f",
   "metadata": {},
   "source": [
    "### Q3)Write a program that will take user input of cost price and selling price and determines whether its a loss or a profit."
   ]
  },
  {
   "cell_type": "code",
   "execution_count": 13,
   "id": "bfe4387e-da78-4e1c-bb54-708fce44f072",
   "metadata": {},
   "outputs": [
    {
     "name": "stdin",
     "output_type": "stream",
     "text": [
      "Enter the cost price:  123\n",
      "Enter the selling price:  456\n"
     ]
    },
    {
     "name": "stdout",
     "output_type": "stream",
     "text": [
      "Profit Gained: $333.00\n"
     ]
    }
   ],
   "source": [
    "# Python program to calculate profit or loss\n",
    "cost_price = float(input(\"Enter the cost price: \"))\n",
    "selling_price = float(input(\"Enter the selling price: \"))\n",
    "\n",
    "if selling_price > cost_price:\n",
    "    profit = selling_price - cost_price\n",
    "    print(f\"Profit Gained: ${profit:.2f}\")\n",
    "elif cost_price > selling_price:\n",
    "    loss = cost_price - selling_price\n",
    "    print(f\"Loss Incurred: ${loss:.2f}\")\n",
    "else:\n",
    "    print(\"No profit nor loss\")\n"
   ]
  },
  {
   "cell_type": "markdown",
   "id": "894ee7f2-a008-49f0-b555-f414f3c132c6",
   "metadata": {},
   "source": [
    "### Q4)Write a menu-driven program -\r\n",
    "1) cm to ft\r\n",
    "2) km to mile\r\n",
    "3) USD to INR\r\n",
    "4) exittexit"
   ]
  },
  {
   "cell_type": "code",
   "execution_count": 1,
   "id": "cea047f4-fadd-4f61-b3b9-1ffcf539d3ed",
   "metadata": {},
   "outputs": [
    {
     "name": "stdout",
     "output_type": "stream",
     "text": [
      "Menu:\n",
      "1) cm to ft\n",
      "2) km to mile\n",
      "3) USD to INR\n",
      "4) Exit\n"
     ]
    },
    {
     "name": "stdin",
     "output_type": "stream",
     "text": [
      "Enter your choice:  1\n",
      "Enter length in centimeters:  170\n"
     ]
    },
    {
     "name": "stdout",
     "output_type": "stream",
     "text": [
      "170.00 cm = 5.58 ft\n",
      "Menu:\n",
      "1) cm to ft\n",
      "2) km to mile\n",
      "3) USD to INR\n",
      "4) Exit\n"
     ]
    },
    {
     "name": "stdin",
     "output_type": "stream",
     "text": [
      "Enter your choice:  2\n",
      "Enter distance in kilometers:  1.5\n"
     ]
    },
    {
     "name": "stdout",
     "output_type": "stream",
     "text": [
      "1.50 km = 0.93 miles\n",
      "Menu:\n",
      "1) cm to ft\n",
      "2) km to mile\n",
      "3) USD to INR\n",
      "4) Exit\n"
     ]
    },
    {
     "name": "stdin",
     "output_type": "stream",
     "text": [
      "Enter your choice:  3\n",
      "Enter amount in USD:  100000\n"
     ]
    },
    {
     "name": "stdout",
     "output_type": "stream",
     "text": [
      "$100000.00 USD = ₹7450000.00 INR\n",
      "Menu:\n",
      "1) cm to ft\n",
      "2) km to mile\n",
      "3) USD to INR\n",
      "4) Exit\n"
     ]
    },
    {
     "name": "stdin",
     "output_type": "stream",
     "text": [
      "Enter your choice:  4\n"
     ]
    },
    {
     "name": "stdout",
     "output_type": "stream",
     "text": [
      "Exiting. Have a great day!\n"
     ]
    }
   ],
   "source": [
    "while True:\n",
    "    print(\"Menu:\")\n",
    "    print(\"1) cm to ft\")\n",
    "    print(\"2) km to mile\")\n",
    "    print(\"3) USD to INR\")\n",
    "    print(\"4) Exit\")\n",
    "    \n",
    "    choice = int(input(\"Enter your choice: \"))\n",
    "    \n",
    "    if choice == 1:\n",
    "        cm = float(input(\"Enter length in centimeters: \"))\n",
    "        print(f\"{cm:.2f} cm = {cm / 30.48:.2f} ft\")\n",
    "    elif choice == 2:\n",
    "        km = float(input(\"Enter distance in kilometers: \"))\n",
    "        print(f\"{km:.2f} km = {km / 1.60934:.2f} miles\")\n",
    "    elif choice == 3:\n",
    "        usd = float(input(\"Enter amount in USD: \"))\n",
    "        print(f\"${usd:.2f} USD = ₹{usd * 74.5:.2f} INR\")\n",
    "    elif choice == 4:\n",
    "        print(\"Exiting. Have a great day!\")\n",
    "        break\n",
    "    else:\n",
    "        print(\"Invalid choice. Please select a valid option.\")\n",
    "\n",
    "\n"
   ]
  },
  {
   "cell_type": "markdown",
   "id": "0bf874cf-8500-4420-b513-38ccc15880dd",
   "metadata": {},
   "source": [
    "### Q5)Display Fibonacci series up to 10 terms.\r\n",
    "Note: The Fibonacci Sequence is a series of numbers. The next number is found by adding up the two numbers before it. The first two numbers are 0 and 1. For example, 0, 1, 1, 2, 3, 5, 8, 13, 21. The next number in this series above is 13+21 = 34"
   ]
  },
  {
   "cell_type": "code",
   "execution_count": 4,
   "id": "6a07c097-15b0-437c-923b-240a079dfee2",
   "metadata": {},
   "outputs": [
    {
     "name": "stdout",
     "output_type": "stream",
     "text": [
      "Fibonacci series up to 10 terms:\n",
      "[0, 1, 1, 2, 3, 5, 8, 13, 21, 34]\n"
     ]
    }
   ],
   "source": [
    "def generate_fibonacci(n):\n",
    "    fib_series = [0, 1]\n",
    "    while len(fib_series) < n:\n",
    "        next_term = fib_series[-1] + fib_series[-2]\n",
    "        fib_series.append(next_term)\n",
    "    \n",
    "    return fib_series\n",
    "\n",
    "# Generate the first 10 Fibonacci numbers\n",
    "n_terms = 10\n",
    "fibonacci_sequence = generate_fibonacci(n_terms)\n",
    "print(f\"Fibonacci series up to {n_terms} terms:\")\n",
    "print(fibonacci_sequence)\n"
   ]
  },
  {
   "cell_type": "markdown",
   "id": "abb988bf-9571-407e-a77e-a49c19ac54d5",
   "metadata": {},
   "source": [
    "### Q6) Find the factorial of a given number.\r\n",
    "Write a program to use the loop to find the factorial of a given number.\r\n",
    "\r\n",
    "The factorial (symbol: !) means to multiply all whole numbers from the chosen number down to 1.\r\n",
    "\r\n",
    "For example: calculate the factorial of 5"
   ]
  },
  {
   "cell_type": "code",
   "execution_count": 7,
   "id": "f9b09929-4fc0-4c24-889d-90c74525d053",
   "metadata": {},
   "outputs": [
    {
     "name": "stdout",
     "output_type": "stream",
     "text": [
      "The factorial of 5 is 120\n"
     ]
    }
   ],
   "source": [
    "def factorial(n):\n",
    "    result = 1\n",
    "    for i in range(1, n + 1):\n",
    "        result *= i\n",
    "    return result\n",
    "\n",
    "number = 5 \n",
    "factorial_result = factorial(number)\n",
    "print(f\"The factorial of {number} is {factorial_result}\")\n"
   ]
  },
  {
   "cell_type": "markdown",
   "id": "5404d2cf-ae36-49da-9092-b57396a32a36",
   "metadata": {},
   "source": [
    "### Q7)Reverse a given integer number."
   ]
  },
  {
   "cell_type": "code",
   "execution_count": 10,
   "id": "8feba3a4-78c7-4b02-8330-ad587fab6f9f",
   "metadata": {},
   "outputs": [
    {
     "name": "stdout",
     "output_type": "stream",
     "text": [
      "The reversed number of 4562 is 2654\n"
     ]
    }
   ],
   "source": [
    "def reverse_number(number):\n",
    "    reversed_num = 0\n",
    "    while number > 0:\n",
    "        digit = number % 10\n",
    "        reversed_num = reversed_num * 10 + digit\n",
    "        number //= 10\n",
    "    return reversed_num\n",
    "\n",
    "original_number = 4562\n",
    "reversed_result = reverse_number(original_number)\n",
    "print(f\"The reversed number of {original_number} is {reversed_result}\")\n"
   ]
  },
  {
   "cell_type": "markdown",
   "id": "e5bf6d43-5fa8-463f-a1fb-45082d5ab6e1",
   "metadata": {},
   "source": [
    "### Q8) Take a user input as integer N. Find out the sum from 1 to N. If any number if divisible by 5, then skip that number. And if the sum is greater than 300, don't need to calculate the sum further more. Print the final result. And don't use for loop to solve this problem."
   ]
  },
  {
   "cell_type": "code",
   "execution_count": 13,
   "id": "42cf48b4-8857-45c4-81c1-f402c1f14bd3",
   "metadata": {},
   "outputs": [
    {
     "name": "stdin",
     "output_type": "stream",
     "text": [
      "Enter an integer N:  12\n"
     ]
    },
    {
     "name": "stdout",
     "output_type": "stream",
     "text": [
      "The final result is: 48\n"
     ]
    }
   ],
   "source": [
    "def calculate_sum(N):\n",
    "    # Calculate the sum of integers divisible by 5\n",
    "    S5 = 5 * (N // 5) * ((N // 5) + 1)\n",
    "\n",
    "    # Calculate the total sum of integers from 1 to N\n",
    "    Stotal = (N * (N + 1)) // 2\n",
    "\n",
    "    # Calculate the required sum\n",
    "    required_sum = Stotal - S5\n",
    "\n",
    "    return required_sum\n",
    "\n",
    "# Take user input for N\n",
    "N = int(input(\"Enter an integer N: \"))\n",
    "\n",
    "# Calculate and print the result\n",
    "final_result = calculate_sum(N)\n",
    "print(f\"The final result is: {final_result}\")\n"
   ]
  },
  {
   "cell_type": "markdown",
   "id": "a2188a7e-b64a-41f1-9de8-1d3237454a47",
   "metadata": {},
   "source": [
    "### Q9)Write a program that keeps on accepting a number from the user until the user enters Zero. Display the sum and average of all the numbers"
   ]
  },
  {
   "cell_type": "code",
   "execution_count": 17,
   "id": "a5a071e4-2a5f-4461-8c1b-50c9ca50118c",
   "metadata": {},
   "outputs": [
    {
     "name": "stdin",
     "output_type": "stream",
     "text": [
      "Enter a number (or 0 to stop):  12\n",
      "Enter a number (or 0 to stop):  23\n",
      "Enter a number (or 0 to stop):  34\n",
      "Enter a number (or 0 to stop):  45\n",
      "Enter a number (or 0 to stop):  56\n",
      "Enter a number (or 0 to stop):  0\n"
     ]
    },
    {
     "name": "stdout",
     "output_type": "stream",
     "text": [
      "Sum of entered numbers: 170.00\n",
      "Average of entered numbers: 34.00\n"
     ]
    }
   ],
   "source": [
    "def main():\n",
    "    total_sum = 0\n",
    "    count = 0\n",
    "\n",
    "    while True:\n",
    "        try:\n",
    "            number = float(input(\"Enter a number (or 0 to stop): \"))\n",
    "            if number == 0:\n",
    "                break\n",
    "            total_sum += number\n",
    "            count += 1\n",
    "        except ValueError:\n",
    "            print(\"Invalid input. Please enter a valid number.\")\n",
    "\n",
    "    if count > 0:\n",
    "        average = total_sum / count\n",
    "        print(f\"Sum of entered numbers: {total_sum:.2f}\")\n",
    "        print(f\"Average of entered numbers: {average:.2f}\")\n",
    "    else:\n",
    "        print(\"No valid numbers entered.\")\n",
    "\n",
    "if __name__ == \"__main__\":\n",
    "    main()\n"
   ]
  },
  {
   "cell_type": "markdown",
   "id": "db0cb3af-72f7-43fe-957c-0a241bcb48bb",
   "metadata": {},
   "source": [
    "### Q10)Write a program which will find all such numbers which are divisible by 7 but are not a multiple of 5, between 2000 and 3200 (both included). The numbers obtained should be printed in a comma-separated sequence on a single line."
   ]
  },
  {
   "cell_type": "code",
   "execution_count": 20,
   "id": "e419441b-6fcb-4449-9ee7-70bec83e8dae",
   "metadata": {},
   "outputs": [
    {
     "name": "stdout",
     "output_type": "stream",
     "text": [
      "2002, 2009, 2016, 2023, 2037, 2044, 2051, 2058, 2072, 2079, 2086, 2093, 2107, 2114, 2121, 2128, 2142, 2149, 2156, 2163, 2177, 2184, 2191, 2198, 2212, 2219, 2226, 2233, 2247, 2254, 2261, 2268, 2282, 2289, 2296, 2303, 2317, 2324, 2331, 2338, 2352, 2359, 2366, 2373, 2387, 2394, 2401, 2408, 2422, 2429, 2436, 2443, 2457, 2464, 2471, 2478, 2492, 2499, 2506, 2513, 2527, 2534, 2541, 2548, 2562, 2569, 2576, 2583, 2597, 2604, 2611, 2618, 2632, 2639, 2646, 2653, 2667, 2674, 2681, 2688, 2702, 2709, 2716, 2723, 2737, 2744, 2751, 2758, 2772, 2779, 2786, 2793, 2807, 2814, 2821, 2828, 2842, 2849, 2856, 2863, 2877, 2884, 2891, 2898, 2912, 2919, 2926, 2933, 2947, 2954, 2961, 2968, 2982, 2989, 2996, 3003, 3017, 3024, 3031, 3038, 3052, 3059, 3066, 3073, 3087, 3094, 3101, 3108, 3122, 3129, 3136, 3143, 3157, 3164, 3171, 3178, 3192, 3199\n"
     ]
    }
   ],
   "source": [
    "def find_numbers(lower_bound, upper_bound):\n",
    "    results = []\n",
    "    for i in range(lower_bound, upper_bound + 1):\n",
    "        if i % 7 == 0 and i % 5 != 0:\n",
    "            results.append(i)\n",
    "    return results\n",
    "\n",
    "lower_bound = 2000\n",
    "upper_bound = 3200\n",
    "found_numbers = find_numbers(lower_bound, upper_bound)\n",
    "print(*found_numbers, sep=\", \")\n"
   ]
  },
  {
   "cell_type": "markdown",
   "id": "2a2aef26-f0a1-4a3d-bc93-97d12c934d85",
   "metadata": {},
   "source": [
    "### Q11) Write a program, which will find all such numbers between 1000 and 3000 (both included) such that each digit of the number is an even number. The numbers obtained should be printed in a space-separated sequence on a single line.\n"
   ]
  },
  {
   "cell_type": "code",
   "execution_count": 23,
   "id": "765b22f1-f149-437b-be57-4c8148648baf",
   "metadata": {},
   "outputs": [
    {
     "name": "stdout",
     "output_type": "stream",
     "text": [
      "2000 2002 2004 2006 2008 2020 2022 2024 2026 2028 2040 2042 2044 2046 2048 2060 2062 2064 2066 2068 2080 2082 2084 2086 2088 2200 2202 2204 2206 2208 2220 2222 2224 2226 2228 2240 2242 2244 2246 2248 2260 2262 2264 2266 2268 2280 2282 2284 2286 2288 2400 2402 2404 2406 2408 2420 2422 2424 2426 2428 2440 2442 2444 2446 2448 2460 2462 2464 2466 2468 2480 2482 2484 2486 2488 2600 2602 2604 2606 2608 2620 2622 2624 2626 2628 2640 2642 2644 2646 2648 2660 2662 2664 2666 2668 2680 2682 2684 2686 2688 2800 2802 2804 2806 2808 2820 2822 2824 2826 2828 2840 2842 2844 2846 2848 2860 2862 2864 2866 2868 2880 2882 2884 2886 2888\n"
     ]
    }
   ],
   "source": [
    "def is_all_even_digits(number):\n",
    "    # Check if all digits in the number are even\n",
    "    return all(int(digit) % 2 == 0 for digit in str(number))\n",
    "\n",
    "def find_even_digit_numbers(lower_bound, upper_bound):\n",
    "    even_digit_numbers = []\n",
    "    for num in range(lower_bound, upper_bound + 1):\n",
    "        if is_all_even_digits(num):\n",
    "            even_digit_numbers.append(num)\n",
    "    return even_digit_numbers\n",
    "\n",
    "lower_bound = 1000\n",
    "upper_bound = 3000\n",
    "even_numbers = find_even_digit_numbers(lower_bound, upper_bound)\n",
    "\n",
    "# Print the even numbers in a space-separated sequence\n",
    "print(*even_numbers, sep=\" \")\n"
   ]
  },
  {
   "cell_type": "markdown",
   "id": "02a7e11e-295c-41fc-be94-6e8a52e86f6e",
   "metadata": {},
   "source": [
    "### Q12) A robot moves in a plane starting from the original point (0,0). The robot can move toward UP, DOWN, LEFT and RIGHT with a given steps. "
   ]
  },
  {
   "cell_type": "code",
   "execution_count": 26,
   "id": "19ea0088-8dc6-46a6-a760-2cea69bd16b2",
   "metadata": {},
   "outputs": [
    {
     "name": "stdout",
     "output_type": "stream",
     "text": [
      "2\n"
     ]
    }
   ],
   "source": [
    "from math import sqrt\n",
    "\n",
    "def robot_moves(moves):\n",
    "    pos = [0, 0]\n",
    "    for move in moves:\n",
    "        dir_and_distance = move.split()\n",
    "        if dir_and_distance[0].upper() == \"UP\":\n",
    "            pos[0] += int(dir_and_distance[1])\n",
    "        elif dir_and_distance[0].upper() == \"DOWN\":\n",
    "            pos[0] -= int(dir_and_distance[1])\n",
    "        elif dir_and_distance[0].upper() == \"RIGHT\":\n",
    "            pos[1] += int(dir_and_distance[1])\n",
    "        elif dir_and_distance[0].upper() == \"LEFT\":\n",
    "            pos[1] -= int(dir_and_distance[1])\n",
    "    return round(sqrt(pos[0]**2 + pos[1]**2))\n",
    "\n",
    "def main():\n",
    "    moves = (\"UP 5\", \"DOWN 3\", \"LEFT 3\", \"RIGHT 2\")\n",
    "    dist = robot_moves(moves)\n",
    "    print(dist)\n",
    "\n",
    "if __name__ == '__main__':\n",
    "    main()\n"
   ]
  },
  {
   "cell_type": "markdown",
   "id": "f47f5b99-846e-4ce5-8c71-16d20d6e1af4",
   "metadata": {},
   "source": [
    "### Q13) Write a program to print whether a given number is a prime number or not"
   ]
  },
  {
   "cell_type": "code",
   "execution_count": 29,
   "id": "890f857f-1aee-4328-b919-07f0282b8b0c",
   "metadata": {},
   "outputs": [
    {
     "name": "stdout",
     "output_type": "stream",
     "text": [
      "29 is a prime number\n"
     ]
    }
   ],
   "source": [
    "def is_prime(number):\n",
    "    if number < 2:\n",
    "        return False  # Numbers less than 2 are not prime\n",
    "\n",
    "    # Check for factors from 2 to the square root of the number\n",
    "    for i in range(2, int(number**0.5) + 1):\n",
    "        if number % i == 0:\n",
    "            return False  # If a factor is found, the number is not prime\n",
    "\n",
    "    return True  # If no factors found, the number is prime\n",
    "\n",
    "# Example usage:\n",
    "num = 29  # Replace with any positive integer\n",
    "if is_prime(num):\n",
    "    print(f\"{num} is a prime number\")\n",
    "else:\n",
    "    print(f\"{num} is not a prime number\")\n"
   ]
  },
  {
   "cell_type": "markdown",
   "id": "c46553ad-2d49-42b7-bcd8-a570e2cf6d6d",
   "metadata": {},
   "source": [
    "### Q14) Print all the Armstrong numbers in a given range."
   ]
  },
  {
   "cell_type": "code",
   "execution_count": 32,
   "id": "e1896c7d-f23c-4647-a078-3bea8d662885",
   "metadata": {},
   "outputs": [
    {
     "name": "stdout",
     "output_type": "stream",
     "text": [
      "Armstrong numbers in the range 100 to 1000 are:\n",
      "153 370 371 407\n"
     ]
    }
   ],
   "source": [
    "def is_armstrong(number):\n",
    "    num_str = str(number)\n",
    "    order = len(num_str)\n",
    "    sum_pow = sum(int(digit) ** order for digit in num_str)\n",
    "    return sum_pow == number\n",
    "\n",
    "def find_armstrong_numbers(lower, upper):\n",
    "    armstrong_numbers = [num for num in range(lower, upper + 1) if is_armstrong(num)]\n",
    "    return armstrong_numbers\n",
    "\n",
    "# Example usage:\n",
    "lower_range = 100\n",
    "upper_range = 1000\n",
    "armstrong_list = find_armstrong_numbers(lower_range, upper_range)\n",
    "\n",
    "print(\"Armstrong numbers in the range\", lower_range, \"to\", upper_range, \"are:\")\n",
    "print(*armstrong_list)\n"
   ]
  },
  {
   "cell_type": "markdown",
   "id": "79f976a9-7061-4bcc-9090-ba1e1dc04115",
   "metadata": {},
   "source": [
    "### def min_angle_between_hr_min(hour, minute):\r\n",
    "    # Calculate the angle made by the hour hand with respect to 12:00\r\n",
    "    hour_angle = (hour % 12 + minute / 60) * 30\r\n",
    "\r\n",
    "    # Calculate the angle made by the minute hand with respect to 12:00\r\n",
    "    minute_angle = minute * 6\r\n",
    "\r\n",
    "    # Find the absolute difference between the two angles\r\n",
    "    angle = abs(hour_angle - minute_angle)\r\n",
    "\r\n",
    "    # Return the smaller angle (either clockwise or counterclockwise)\r\n",
    "    return min(angle, 360 -:.2f} degrees.\")\r\n"
   ]
  },
  {
   "cell_type": "markdown",
   "id": "4592f061-1610-433e-97b4-db1d57753a1f",
   "metadata": {},
   "source": [
    "### 15) Calculate the angle between the hour hand and minute hand."
   ]
  },
  {
   "cell_type": "code",
   "execution_count": 36,
   "id": "9ec2fda0-f446-4e95-bf92-77e972702b46",
   "metadata": {},
   "outputs": [
    {
     "name": "stdout",
     "output_type": "stream",
     "text": [
      "The angle between the hour and minute hands at 7:00 is 150.00 degrees.\n"
     ]
    }
   ],
   "source": [
    "def min_angle_between_hr_min(hour, minute):\n",
    "    # Calculate the angle made by the hour hand with respect to 12:00\n",
    "    hour_angle = (hour % 12 + minute / 60) * 30\n",
    "\n",
    "    # Calculate the angle made by the minute hand with respect to 12:00\n",
    "    minute_angle = minute * 6\n",
    "\n",
    "    # Find the absolute difference between the two angles\n",
    "    angle = abs(hour_angle - minute_angle)\n",
    "\n",
    "    # Return the smaller angle (either clockwise or counterclockwise)\n",
    "    return min(angle, 360 - angle)\n",
    "\n",
    "# Example usage:\n",
    "hour = 7\n",
    "minute = 0\n",
    "result = min_angle_between_hr_min(hour, minute)\n",
    "print(f\"The angle between the hour and minute hands at {hour}:{minute:02d} is {result:.2f} degrees.\")\n"
   ]
  },
  {
   "cell_type": "markdown",
   "id": "63338f98-9b52-486d-8017-1f1d2b380778",
   "metadata": {},
   "source": [
    "### Q16)Given two rectangles, find if the given two rectangles overlap or not. A rectangle is denoted by providing the x and y coordinates of two points: the left top corner and the right bottom corner of the rectangle. Two rectangles sharing a side are considered overlapping. (L1 and R1 are the extreme points of the first rectangle and L2 and R2 are the extreme points of the second rectangle)."
   ]
  },
  {
   "cell_type": "code",
   "execution_count": 39,
   "id": "536deb9b-4b9a-4ccd-877e-2ff1c76f7be7",
   "metadata": {},
   "outputs": [
    {
     "name": "stdout",
     "output_type": "stream",
     "text": [
      "Rectangles do not overlap\n"
     ]
    }
   ],
   "source": [
    "def do_overlap(L1, R1, L2, R2):\n",
    "    # Check if one rectangle is to the left of the other\n",
    "    if R1[0] < L2[0] or R2[0] < L1[0]:\n",
    "        return False\n",
    "\n",
    "    # Check if one rectangle is above the other\n",
    "    if R1[1] < L2[1] or R2[1] < L1[1]:\n",
    "        return False\n",
    "\n",
    "    return True\n",
    "\n",
    "# Example usage:\n",
    "rectangle1 = [(0, 10), (10, 0)]  # (L1, R1)\n",
    "rectangle2 = [(5, 5), (15, 0)]  # (L2, R2)\n",
    "\n",
    "if do_overlap(rectangle1[0], rectangle1[1], rectangle2[0], rectangle2[1]):\n",
    "    print(\"Rectangles overlap\")\n",
    "else:\n",
    "    print(\"Rectangles do not overlap\")\n"
   ]
  },
  {
   "cell_type": "code",
   "execution_count": null,
   "id": "08a3717c-b01c-4e75-8df1-6f007026fde1",
   "metadata": {},
   "outputs": [],
   "source": []
  }
 ],
 "metadata": {
  "kernelspec": {
   "display_name": "Python 3 (ipykernel)",
   "language": "python",
   "name": "python3"
  },
  "language_info": {
   "codemirror_mode": {
    "name": "ipython",
    "version": 3
   },
   "file_extension": ".py",
   "mimetype": "text/x-python",
   "name": "python",
   "nbconvert_exporter": "python",
   "pygments_lexer": "ipython3",
   "version": "3.11.7"
  }
 },
 "nbformat": 4,
 "nbformat_minor": 5
}
